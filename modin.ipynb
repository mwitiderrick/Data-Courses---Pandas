{
 "cells": [
  {
   "cell_type": "code",
   "execution_count": 1,
   "id": "rocky-amount",
   "metadata": {},
   "outputs": [],
   "source": [
    "from distributed import Client\n",
    "client = Client(n_workers=6)\n"
   ]
  },
  {
   "cell_type": "code",
   "execution_count": 2,
   "id": "quality-minneapolis",
   "metadata": {},
   "outputs": [
    {
     "name": "stderr",
     "output_type": "stream",
     "text": [
      "UserWarning: The Dask Engine for Modin is experimental.\n"
     ]
    }
   ],
   "source": [
    "import modin.pandas as pd"
   ]
  },
  {
   "cell_type": "code",
   "execution_count": 4,
   "id": "elementary-approach",
   "metadata": {},
   "outputs": [],
   "source": [
    "import pandas as pds"
   ]
  },
  {
   "cell_type": "code",
   "execution_count": 5,
   "id": "threatened-statement",
   "metadata": {},
   "outputs": [
    {
     "name": "stdout",
     "output_type": "stream",
     "text": [
      "CPU times: user 164 ms, sys: 47.2 ms, total: 211 ms\n",
      "Wall time: 875 ms\n"
     ]
    }
   ],
   "source": [
    "%%time\n",
    "df = pd.read_csv(\"kiva_loans.csv\")"
   ]
  },
  {
   "cell_type": "code",
   "execution_count": 6,
   "id": "turned-being",
   "metadata": {},
   "outputs": [
    {
     "name": "stdout",
     "output_type": "stream",
     "text": [
      "CPU times: user 1.6 s, sys: 96 ms, total: 1.7 s\n",
      "Wall time: 1.7 s\n"
     ]
    }
   ],
   "source": [
    "%%time\n",
    "dff = pds.read_csv(\"kiva_loans.csv\")"
   ]
  },
  {
   "cell_type": "code",
   "execution_count": 7,
   "id": "starting-change",
   "metadata": {},
   "outputs": [
    {
     "data": {
      "text/html": [
       "<div>\n",
       "<style scoped>\n",
       "    .dataframe tbody tr th:only-of-type {\n",
       "        vertical-align: middle;\n",
       "    }\n",
       "\n",
       "    .dataframe tbody tr th {\n",
       "        vertical-align: top;\n",
       "    }\n",
       "\n",
       "    .dataframe thead th {\n",
       "        text-align: right;\n",
       "    }\n",
       "</style>\n",
       "<table border=\"1\" class=\"dataframe\">\n",
       "  <thead>\n",
       "    <tr style=\"text-align: right;\">\n",
       "      <th></th>\n",
       "      <th>id</th>\n",
       "      <th>funded_amount</th>\n",
       "      <th>loan_amount</th>\n",
       "      <th>activity</th>\n",
       "      <th>sector</th>\n",
       "      <th>use</th>\n",
       "      <th>country_code</th>\n",
       "      <th>country</th>\n",
       "      <th>region</th>\n",
       "      <th>currency</th>\n",
       "      <th>partner_id</th>\n",
       "      <th>posted_time</th>\n",
       "      <th>disbursed_time</th>\n",
       "      <th>funded_time</th>\n",
       "      <th>term_in_months</th>\n",
       "      <th>lender_count</th>\n",
       "      <th>tags</th>\n",
       "      <th>borrower_genders</th>\n",
       "      <th>repayment_interval</th>\n",
       "      <th>date</th>\n",
       "    </tr>\n",
       "  </thead>\n",
       "  <tbody>\n",
       "    <tr>\n",
       "      <th>379249</th>\n",
       "      <td>1025240</td>\n",
       "      <td>500.0</td>\n",
       "      <td>500.0</td>\n",
       "      <td>Home Appliances</td>\n",
       "      <td>Personal Use</td>\n",
       "      <td>To buy a decent motorbike for commuting to work.</td>\n",
       "      <td>KH</td>\n",
       "      <td>Cambodia</td>\n",
       "      <td>Kandal province, Kandal Stoeng district</td>\n",
       "      <td>KHR</td>\n",
       "      <td>204.0</td>\n",
       "      <td>2016-02-19 03:18:40+00:00</td>\n",
       "      <td>2016-01-27 08:00:00+00:00</td>\n",
       "      <td>2016-03-11 02:48:40+00:00</td>\n",
       "      <td>14.0</td>\n",
       "      <td>17</td>\n",
       "      <td>#Biz Durable Asset, #Parent, #First Loan</td>\n",
       "      <td>male</td>\n",
       "      <td>monthly</td>\n",
       "      <td>2016-02-19</td>\n",
       "    </tr>\n",
       "  </tbody>\n",
       "</table>\n",
       "</div>"
      ],
      "text/plain": [
       "             id  funded_amount  loan_amount         activity        sector  \\\n",
       "379249  1025240          500.0        500.0  Home Appliances  Personal Use   \n",
       "\n",
       "                                                     use country_code  \\\n",
       "379249  To buy a decent motorbike for commuting to work.           KH   \n",
       "\n",
       "         country                                   region currency  \\\n",
       "379249  Cambodia  Kandal province, Kandal Stoeng district      KHR   \n",
       "\n",
       "        partner_id                posted_time             disbursed_time  \\\n",
       "379249       204.0  2016-02-19 03:18:40+00:00  2016-01-27 08:00:00+00:00   \n",
       "\n",
       "                      funded_time  term_in_months  lender_count  \\\n",
       "379249  2016-03-11 02:48:40+00:00            14.0            17   \n",
       "\n",
       "                                            tags borrower_genders  \\\n",
       "379249  #Biz Durable Asset, #Parent, #First Loan             male   \n",
       "\n",
       "       repayment_interval        date  \n",
       "379249            monthly  2016-02-19  "
      ]
     },
     "execution_count": 7,
     "metadata": {},
     "output_type": "execute_result"
    }
   ],
   "source": [
    "dff.sample()"
   ]
  },
  {
   "cell_type": "code",
   "execution_count": 25,
   "id": "sophisticated-seven",
   "metadata": {},
   "outputs": [
    {
     "name": "stdout",
     "output_type": "stream",
     "text": [
      "CPU times: user 49.9 ms, sys: 2.7 ms, total: 52.6 ms\n",
      "Wall time: 57.5 ms\n"
     ]
    },
    {
     "data": {
      "text/html": [
       "<div>\n",
       "<style scoped>\n",
       "    .dataframe tbody tr th:only-of-type {\n",
       "        vertical-align: middle;\n",
       "    }\n",
       "\n",
       "    .dataframe tbody tr th {\n",
       "        vertical-align: top;\n",
       "    }\n",
       "\n",
       "    .dataframe thead th {\n",
       "        text-align: right;\n",
       "    }\n",
       "</style>\n",
       "<table border=\"1\" class=\"dataframe\">\n",
       "  <thead>\n",
       "    <tr style=\"text-align: right;\">\n",
       "      <th></th>\n",
       "      <th>sector</th>\n",
       "      <th>term_in_months</th>\n",
       "    </tr>\n",
       "  </thead>\n",
       "  <tbody>\n",
       "    <tr>\n",
       "      <th>0</th>\n",
       "      <td>Agriculture</td>\n",
       "      <td>14.334500</td>\n",
       "    </tr>\n",
       "    <tr>\n",
       "      <th>1</th>\n",
       "      <td>Arts</td>\n",
       "      <td>13.305473</td>\n",
       "    </tr>\n",
       "    <tr>\n",
       "      <th>2</th>\n",
       "      <td>Clothing</td>\n",
       "      <td>12.090159</td>\n",
       "    </tr>\n",
       "    <tr>\n",
       "      <th>3</th>\n",
       "      <td>Construction</td>\n",
       "      <td>15.370613</td>\n",
       "    </tr>\n",
       "    <tr>\n",
       "      <th>4</th>\n",
       "      <td>Education</td>\n",
       "      <td>21.640731</td>\n",
       "    </tr>\n",
       "    <tr>\n",
       "      <th>5</th>\n",
       "      <td>Entertainment</td>\n",
       "      <td>17.109639</td>\n",
       "    </tr>\n",
       "    <tr>\n",
       "      <th>6</th>\n",
       "      <td>Food</td>\n",
       "      <td>11.613463</td>\n",
       "    </tr>\n",
       "    <tr>\n",
       "      <th>7</th>\n",
       "      <td>Health</td>\n",
       "      <td>19.173046</td>\n",
       "    </tr>\n",
       "    <tr>\n",
       "      <th>8</th>\n",
       "      <td>Housing</td>\n",
       "      <td>20.522902</td>\n",
       "    </tr>\n",
       "    <tr>\n",
       "      <th>9</th>\n",
       "      <td>Manufacturing</td>\n",
       "      <td>14.268847</td>\n",
       "    </tr>\n",
       "    <tr>\n",
       "      <th>10</th>\n",
       "      <td>Personal Use</td>\n",
       "      <td>13.423224</td>\n",
       "    </tr>\n",
       "    <tr>\n",
       "      <th>11</th>\n",
       "      <td>Retail</td>\n",
       "      <td>11.064268</td>\n",
       "    </tr>\n",
       "    <tr>\n",
       "      <th>12</th>\n",
       "      <td>Services</td>\n",
       "      <td>14.865485</td>\n",
       "    </tr>\n",
       "    <tr>\n",
       "      <th>13</th>\n",
       "      <td>Transportation</td>\n",
       "      <td>13.418160</td>\n",
       "    </tr>\n",
       "    <tr>\n",
       "      <th>14</th>\n",
       "      <td>Wholesale</td>\n",
       "      <td>14.716088</td>\n",
       "    </tr>\n",
       "  </tbody>\n",
       "</table>\n",
       "</div>"
      ],
      "text/plain": [
       "            sector  term_in_months\n",
       "0      Agriculture       14.334500\n",
       "1             Arts       13.305473\n",
       "2         Clothing       12.090159\n",
       "3     Construction       15.370613\n",
       "4        Education       21.640731\n",
       "5    Entertainment       17.109639\n",
       "6             Food       11.613463\n",
       "7           Health       19.173046\n",
       "8          Housing       20.522902\n",
       "9    Manufacturing       14.268847\n",
       "10    Personal Use       13.423224\n",
       "11          Retail       11.064268\n",
       "12        Services       14.865485\n",
       "13  Transportation       13.418160\n",
       "14       Wholesale       14.716088"
      ]
     },
     "execution_count": 25,
     "metadata": {},
     "output_type": "execute_result"
    }
   ],
   "source": [
    "%%time\n",
    "# normal pandas\n",
    "dff.groupby(\"sector\")['term_in_months'].mean().reset_index()"
   ]
  },
  {
   "cell_type": "code",
   "execution_count": 24,
   "id": "broad-interaction",
   "metadata": {},
   "outputs": [
    {
     "name": "stdout",
     "output_type": "stream",
     "text": [
      "CPU times: user 91.1 ms, sys: 17.3 ms, total: 108 ms\n",
      "Wall time: 294 ms\n"
     ]
    },
    {
     "data": {
      "text/html": [
       "<div>\n",
       "<style scoped>\n",
       "    .dataframe tbody tr th:only-of-type {\n",
       "        vertical-align: middle;\n",
       "    }\n",
       "\n",
       "    .dataframe tbody tr th {\n",
       "        vertical-align: top;\n",
       "    }\n",
       "\n",
       "    .dataframe thead th {\n",
       "        text-align: right;\n",
       "    }\n",
       "</style>\n",
       "<table border=\"1\" class=\"dataframe\">\n",
       "  <thead>\n",
       "    <tr style=\"text-align: right;\">\n",
       "      <th></th>\n",
       "      <th>activity</th>\n",
       "      <th>term_in_months</th>\n",
       "    </tr>\n",
       "  </thead>\n",
       "  <tbody>\n",
       "    <tr>\n",
       "      <th>0</th>\n",
       "      <td>Adult Care</td>\n",
       "      <td>22.500000</td>\n",
       "    </tr>\n",
       "    <tr>\n",
       "      <th>1</th>\n",
       "      <td>Agriculture</td>\n",
       "      <td>14.913740</td>\n",
       "    </tr>\n",
       "    <tr>\n",
       "      <th>2</th>\n",
       "      <td>Air Conditioning</td>\n",
       "      <td>15.694444</td>\n",
       "    </tr>\n",
       "    <tr>\n",
       "      <th>3</th>\n",
       "      <td>Animal Sales</td>\n",
       "      <td>13.701418</td>\n",
       "    </tr>\n",
       "    <tr>\n",
       "      <th>4</th>\n",
       "      <td>Aquaculture</td>\n",
       "      <td>13.407407</td>\n",
       "    </tr>\n",
       "    <tr>\n",
       "      <th>...</th>\n",
       "      <td>...</td>\n",
       "      <td>...</td>\n",
       "    </tr>\n",
       "    <tr>\n",
       "      <th>158</th>\n",
       "      <td>Water Distribution</td>\n",
       "      <td>12.781915</td>\n",
       "    </tr>\n",
       "    <tr>\n",
       "      <th>159</th>\n",
       "      <td>Weaving</td>\n",
       "      <td>12.781155</td>\n",
       "    </tr>\n",
       "    <tr>\n",
       "      <th>160</th>\n",
       "      <td>Wedding Expenses</td>\n",
       "      <td>17.832099</td>\n",
       "    </tr>\n",
       "    <tr>\n",
       "      <th>161</th>\n",
       "      <td>Well digging</td>\n",
       "      <td>19.714286</td>\n",
       "    </tr>\n",
       "    <tr>\n",
       "      <th>162</th>\n",
       "      <td>Wholesale</td>\n",
       "      <td>13.633053</td>\n",
       "    </tr>\n",
       "  </tbody>\n",
       "</table>\n",
       "<p>163 rows x 2 columns</p>\n",
       "</div>"
      ],
      "text/plain": [
       "               activity  term_in_months\n",
       "0            Adult Care       22.500000\n",
       "1           Agriculture       14.913740\n",
       "2      Air Conditioning       15.694444\n",
       "3          Animal Sales       13.701418\n",
       "4           Aquaculture       13.407407\n",
       "..                  ...             ...\n",
       "158  Water Distribution       12.781915\n",
       "159             Weaving       12.781155\n",
       "160    Wedding Expenses       17.832099\n",
       "161        Well digging       19.714286\n",
       "162           Wholesale       13.633053\n",
       "\n",
       "[163 rows x 2 columns]"
      ]
     },
     "execution_count": 24,
     "metadata": {},
     "output_type": "execute_result"
    }
   ],
   "source": [
    "%%time\n",
    "# Modin pandas\n",
    "df.groupby(\"activity\")['term_in_months'].mean().reset_index()"
   ]
  },
  {
   "cell_type": "code",
   "execution_count": 27,
   "id": "third-estimate",
   "metadata": {},
   "outputs": [
    {
     "name": "stderr",
     "output_type": "stream",
     "text": [
      "UserWarning: `Series.hist_series` defaulting to pandas implementation.\n"
     ]
    },
    {
     "data": {
      "text/plain": [
       "<AxesSubplot:>"
      ]
     },
     "execution_count": 27,
     "metadata": {},
     "output_type": "execute_result"
    },
    {
     "data": {
      "image/png": "[encoded data removed]",
      "text/plain": [
       "<Figure size 432x288 with 1 Axes>"
      ]
     },
     "metadata": {
      "needs_background": "light"
     },
     "output_type": "display_data"
    }
   ],
   "source": [
    "df[\"term_in_months\"].hist()"
   ]
  },
  {
   "cell_type": "code",
   "execution_count": null,
   "id": "directed-supplement",
   "metadata": {},
   "outputs": [],
   "source": []
  }
 ],
 "metadata": {
  "kernelspec": {
   "display_name": "Python 3",
   "language": "python",
   "name": "python3"
  },
  "language_info": {
   "codemirror_mode": {
    "name": "ipython",
    "version": 3
   },
   "file_extension": ".py",
   "mimetype": "text/x-python",
   "name": "python",
   "nbconvert_exporter": "python",
   "pygments_lexer": "ipython3",
   "version": "3.8.6"
  }
 },
 "nbformat": 4,
 "nbformat_minor": 5
}
